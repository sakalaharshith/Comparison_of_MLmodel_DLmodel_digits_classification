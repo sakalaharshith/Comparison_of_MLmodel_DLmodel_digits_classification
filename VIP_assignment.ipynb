{
  "nbformat": 4,
  "nbformat_minor": 0,
  "metadata": {
    "colab": {
      "provenance": [],
      "collapsed_sections": [],
      "authorship_tag": "ABX9TyPuJCn3gxFV4iZyJtoV/x7U",
      "include_colab_link": true
    },
    "kernelspec": {
      "name": "python3",
      "display_name": "Python 3"
    },
    "language_info": {
      "name": "python"
    }
  },
  "cells": [
    {
      "cell_type": "markdown",
      "metadata": {
        "id": "view-in-github",
        "colab_type": "text"
      },
      "source": [
        "<a href=\"https://colab.research.google.com/github/sakalaharshith/Comparison_of_MLmodel_DLmodel_digits_classification/blob/main/VIP_assignment.ipynb\" target=\"_parent\"><img src=\"https://colab.research.google.com/assets/colab-badge.svg\" alt=\"Open In Colab\"/></a>"
      ]
    },
    {
      "cell_type": "code",
      "execution_count": null,
      "metadata": {
        "id": "uszffOzOrVC8"
      },
      "outputs": [],
      "source": [
        "# Importing Libraries\n",
        "from keras.datasets import mnist\n",
        "from sklearn.svm import SVC  \n",
        "from google.colab.patches import cv2_imshow\n",
        "import numpy as np\n",
        "import struct as st\n",
        "import cv2 as cv\n",
        "from sklearn.model_selection import train_test_split\n",
        "from sklearn.ensemble import RandomForestClassifier\n",
        "from sklearn.model_selection import KFold\n",
        "from sklearn.model_selection import cross_val_score\n",
        "from sklearn.metrics import classification_report,balanced_accuracy_score"
      ]
    },
    {
      "cell_type": "code",
      "source": [
        "# Importing mnist Dataset\n",
        "with open('train-images.idx3-ubyte','rb') as f:\n",
        "    magic, train_size = st.unpack(\">II\", f.read(8))\n",
        "    nrows, ncols = st.unpack(\">II\", f.read(8))\n",
        "    data = np.fromfile(f, dtype=np.dtype(np.uint8).newbyteorder('>'))\n",
        "    train_X = data.reshape((train_size, nrows, ncols))\n",
        "\n",
        "with open('train-labels.idx1-ubyte','rb') as o:\n",
        "    magic, size = st.unpack(\">II\", o.read(8))\n",
        "    train_y = np.fromfile(o, dtype=np.dtype(np.uint8).newbyteorder('>'))"
      ],
      "metadata": {
        "id": "faNIIOujBbev"
      },
      "execution_count": null,
      "outputs": []
    },
    {
      "cell_type": "code",
      "source": [
        "# Importing Mnist Dataset\n",
        "with open('t10k-images.idx3-ubyte','rb') as f:\n",
        "    magic, train_size = st.unpack(\">II\", f.read(8))\n",
        "    nrows, ncols = st.unpack(\">II\", f.read(8))\n",
        "    data = np.fromfile(f, dtype=np.dtype(np.uint8).newbyteorder('>'))\n",
        "    test_X = data.reshape((train_size, nrows, ncols))\n",
        "\n",
        "with open('t10k-labels.idx1-ubyte','rb') as o:\n",
        "    magic, size = st.unpack(\">II\", o.read(8))\n",
        "    test_y = np.fromfile(o, dtype=np.dtype(np.uint8).newbyteorder('>'))"
      ],
      "metadata": {
        "id": "9W7qUx2FCHqL"
      },
      "execution_count": null,
      "outputs": []
    },
    {
      "cell_type": "code",
      "source": [
        "#Hog Feature Extraction\n",
        "SZ = 20\n",
        "bin_n = 16 \n",
        "def hog(img):\n",
        "    gx = cv.Sobel(img, cv.CV_32F, 1, 0)\n",
        "    gy = cv.Sobel(img, cv.CV_32F, 0, 1)\n",
        "    mag, ang = cv.cartToPolar(gx, gy)\n",
        "    bins = np.int32(bin_n*ang/(2*np.pi))    # quantizing binvalues in (0...16)\n",
        "    bin_cells = bins[:10,:10], bins[10:,:10], bins[:10,10:], bins[10:,10:]\n",
        "    mag_cells = mag[:10,:10], mag[10:,:10], mag[:10,10:], mag[10:,10:]\n",
        "    hists = [np.bincount(b.ravel(), m.ravel(), bin_n) for b, m in zip(bin_cells, mag_cells)]\n",
        "    hist = np.hstack(hists)     # hist is a 64 bit vector\n",
        "    return hist"
      ],
      "metadata": {
        "id": "SkBO2MsMFx0a"
      },
      "execution_count": null,
      "outputs": []
    },
    {
      "cell_type": "code",
      "source": [
        "# Data Normalization\n",
        "def image_normalisation(train_x,test_x):\n",
        "   \n",
        "  train_x=train_x.astype('float32')\n",
        "  test_x=test_x.astype('float32')\n",
        "  train_normalised_x=train_x/255.0\n",
        "  test_normalised_x=test_x/255.0\n",
        "  print(type(test_normalised_x))\n",
        "  \n",
        "  return [train_normalised_x,test_normalised_x]\n",
        "\n",
        "  "
      ],
      "metadata": {
        "id": "OduMsLAOhy89"
      },
      "execution_count": null,
      "outputs": []
    },
    {
      "cell_type": "code",
      "source": [
        "# Applying hog feature extraction on training dataset\n",
        "hogdata=[list(hog(x)) for x in train_X]\n",
        "trainData =np.float32(hogdata).reshape(-1,64)\n",
        "\n"
      ],
      "metadata": {
        "id": "kg-ywvOaGP8m"
      },
      "execution_count": null,
      "outputs": []
    },
    {
      "cell_type": "code",
      "source": [
        "# Applying hog feature extraction on test dataset\n",
        "hogdata=[list(hog(x)) for x in test_X]\n",
        "testData = np.float32(hogdata).reshape(-1,64)\n",
        "\n"
      ],
      "metadata": {
        "id": "BYGC0IKRVceZ"
      },
      "execution_count": null,
      "outputs": []
    },
    {
      "cell_type": "code",
      "source": [
        "print(\"shape of each image after hog applied\",trainData[0].shape)"
      ],
      "metadata": {
        "colab": {
          "base_uri": "https://localhost:8080/"
        },
        "id": "7E7Vb9PXV9iv",
        "outputId": "dee467d9-1056-41f2-b451-aab36d07ef34"
      },
      "execution_count": null,
      "outputs": [
        {
          "output_type": "stream",
          "name": "stdout",
          "text": [
            "shape of each image after hog applied (64,)\n"
          ]
        }
      ]
    },
    {
      "cell_type": "code",
      "source": [
        "# Model training on mnist\n",
        "model_mnist = RandomForestClassifier()\n",
        "model_mnist.fit(trainData, train_y)\n",
        "predict=model_mnist.predict(testData)\n",
        "accuracy=round(sum(predict==test_y)/len(test_y),3)\n",
        "kfold = KFold(n_splits=10, random_state=1, shuffle=True)\n",
        "cross_validation_score=cross_val_score(model_mnist,trainData,train_y,scoring='accuracy',cv=kfold)\n"
      ],
      "metadata": {
        "id": "a9qy4AL0QWjZ"
      },
      "execution_count": null,
      "outputs": []
    },
    {
      "cell_type": "code",
      "source": [
        "print(\" trained and tested on mnist accuracy \",accuracy)\n",
        "print(\"cross validation accuracy \",cross_validation_score)"
      ],
      "metadata": {
        "colab": {
          "base_uri": "https://localhost:8080/"
        },
        "id": "Xw95fJKPQ8su",
        "outputId": "ac846844-eee1-44f2-e4c6-925c8ce247d1"
      },
      "execution_count": null,
      "outputs": [
        {
          "output_type": "stream",
          "name": "stdout",
          "text": [
            " trained and tested on mnist accuracy  0.935\n",
            "cross validation accuracy  [0.92966667 0.93233333 0.928      0.929      0.93416667 0.9325\n",
            " 0.9325     0.93316667 0.92866667 0.93483333]\n"
          ]
        }
      ]
    },
    {
      "cell_type": "code",
      "source": [
        "\n",
        "print(classification_report(test_y, predict))\n",
        "print(\"balanced accuracy\",balanced_accuracy_score(test_y,predict))"
      ],
      "metadata": {
        "id": "hrdyyLKy0If4",
        "colab": {
          "base_uri": "https://localhost:8080/"
        },
        "outputId": "63ac85e9-6eee-4945-8111-8d5ba75d6728"
      },
      "execution_count": null,
      "outputs": [
        {
          "output_type": "stream",
          "name": "stdout",
          "text": [
            "              precision    recall  f1-score   support\n",
            "\n",
            "           0       0.94      0.96      0.95       980\n",
            "           1       0.99      0.98      0.99      1135\n",
            "           2       0.91      0.92      0.92      1032\n",
            "           3       0.92      0.94      0.93      1010\n",
            "           4       0.94      0.97      0.95       982\n",
            "           5       0.93      0.93      0.93       892\n",
            "           6       0.94      0.93      0.94       958\n",
            "           7       0.96      0.93      0.94      1028\n",
            "           8       0.88      0.87      0.87       974\n",
            "           9       0.93      0.92      0.92      1009\n",
            "\n",
            "    accuracy                           0.94     10000\n",
            "   macro avg       0.93      0.93      0.93     10000\n",
            "weighted avg       0.94      0.94      0.94     10000\n",
            "\n",
            "balanced accuracy 0.9344074063919333\n"
          ]
        }
      ]
    },
    {
      "cell_type": "code",
      "source": [
        "# Zip Extracting Synthetic Data\n",
        "from zipfile import ZipFile\n",
        "file_name = 'SyntheticDigits.zip'\n",
        "\n",
        "with ZipFile(file_name, 'r') as zip:\n",
        "  zip.extractall()\n",
        "  print('Done')\n",
        "# Note : Sometimes after extracting folder the following cells may not work properly or throws error. If something of this sort happens then it is better to restart the environment and then it works fine"
      ],
      "metadata": {
        "id": "_08i0JXUb9sy",
        "colab": {
          "base_uri": "https://localhost:8080/"
        },
        "outputId": "1492061a-1e92-484b-db7d-686d26fe9398"
      },
      "execution_count": null,
      "outputs": [
        {
          "output_type": "stream",
          "name": "stdout",
          "text": [
            "Done\n"
          ]
        }
      ]
    },
    {
      "cell_type": "code",
      "source": [
        "# hog feature Extraction on Synthetic Data\n",
        "file_list=[0,1,2,3,4,5,6,7,8,9]\n",
        "import os\n",
        "for x in range(0,10):\n",
        "  folder=str(x)\n",
        "  file_list[x]=os.listdir(folder)\n",
        "count=0\n",
        "synthetic_trainingdata=[]\n",
        "synthetic_labels=[]\n",
        "synthetic_trainingdata_cnn=[]\n",
        "for x in range(0,10):\n",
        "  for a in range(0,1000):\n",
        "    path=\"\"+str(x)+\"/\"+file_list[x][a]\n",
        "    synthetic_trainingdata_cnn.append(cv.imread(path,cv.IMREAD_UNCHANGED))\n",
        "    data=hog(cv.imread(path,cv.IMREAD_UNCHANGED))\n",
        "    synthetic_trainingdata.append(data)\n",
        "    \n",
        "for x in range(0,10):\n",
        "  list_data=[x for a in range(0,1000)]\n",
        "  synthetic_labels.extend(list_data)\n",
        "array=np.array(synthetic_labels)\n",
        "synthetic_dataarray=np.array(synthetic_trainingdata).reshape(-1,64)"
      ],
      "metadata": {
        "id": "_qo5mSt6hJob"
      },
      "execution_count": null,
      "outputs": []
    },
    {
      "cell_type": "code",
      "source": [
        "# Data Split of Synthetic Data\n",
        "x_train,x_test,y_train,y_test=train_test_split(synthetic_dataarray,array,test_size=0.2)\n",
        "x_train_cnn,x_test_cnn,y_train_cnn,y_test_cnn=train_test_split(synthetic_trainingdata_cnn,array,test_size=0.2)"
      ],
      "metadata": {
        "id": "8ckNqLs-gGvU"
      },
      "execution_count": null,
      "outputs": []
    },
    {
      "cell_type": "code",
      "source": [
        "# Model Training on Synthetic Data\n",
        "model_synthetic=RandomForestClassifier()\n",
        "model_synthetic.fit(x_train, y_train)\n",
        "predict_synthetic=model_synthetic.predict(x_test)\n",
        "accuracy_synthetic=round(sum(predict_synthetic==y_test)/len(y_test),3)\n",
        "kfold = KFold(n_splits=10, random_state=1, shuffle=True)\n",
        "cross_validation_score=cross_val_score(model_synthetic,x_train,y_train,scoring='accuracy',cv=kfold)\n",
        "print(\"accuracy for trained and tested on synthetic\",accuracy_synthetic*100)\n",
        "print(\"cross validation score\",cross_validation_score)"
      ],
      "metadata": {
        "colab": {
          "base_uri": "https://localhost:8080/"
        },
        "id": "6qdE53L0SIUz",
        "outputId": "4f7d300a-e08c-408a-a918-37370a9f6a10"
      },
      "execution_count": null,
      "outputs": [
        {
          "output_type": "stream",
          "name": "stdout",
          "text": [
            "accuracy for trained and tested on synthetic 97.3\n",
            "cross validation score [0.97625 0.97    0.96625 0.96125 0.96125 0.965   0.96875 0.97125 0.96875\n",
            " 0.96625]\n"
          ]
        }
      ]
    },
    {
      "cell_type": "code",
      "source": [
        "\n",
        "print(classification_report(y_test, predict_synthetic))\n",
        "print(\"balanced accuracy\",balanced_accuracy_score(y_test,predict_synthetic))"
      ],
      "metadata": {
        "colab": {
          "base_uri": "https://localhost:8080/"
        },
        "id": "SxP6fYwhu9Ov",
        "outputId": "04d69188-5ddc-4266-dbc5-3e81f4b64378"
      },
      "execution_count": null,
      "outputs": [
        {
          "output_type": "stream",
          "name": "stdout",
          "text": [
            "              precision    recall  f1-score   support\n",
            "\n",
            "           0       0.98      0.96      0.97       189\n",
            "           1       0.99      0.96      0.98       198\n",
            "           2       0.96      0.97      0.97       191\n",
            "           3       0.96      0.97      0.96       185\n",
            "           4       0.96      0.99      0.98       188\n",
            "           5       0.97      0.98      0.97       212\n",
            "           6       0.97      0.99      0.98       226\n",
            "           7       0.97      0.99      0.98       193\n",
            "           8       1.00      0.97      0.98       201\n",
            "           9       0.97      0.94      0.96       217\n",
            "\n",
            "    accuracy                           0.97      2000\n",
            "   macro avg       0.97      0.97      0.97      2000\n",
            "weighted avg       0.97      0.97      0.97      2000\n",
            "\n",
            "balanced accuracy 0.9730619466683417\n"
          ]
        }
      ]
    },
    {
      "cell_type": "code",
      "source": [
        "# Predicting Synthetic Data using mnist trained model\n",
        "predict=model_mnist.predict(x_test)\n",
        "accuracy=round(sum(predict==y_test)/len(y_test),3)\n",
        "print(\"accuracy for trained on mnist and tested on sythetic\",accuracy*100)\n"
      ],
      "metadata": {
        "colab": {
          "base_uri": "https://localhost:8080/"
        },
        "id": "unlaCRWnSvT0",
        "outputId": "a1df4642-ef15-4e0f-c74f-31ecc8c4e859"
      },
      "execution_count": null,
      "outputs": [
        {
          "output_type": "stream",
          "name": "stdout",
          "text": [
            "accuracy for trained on mnist and tested on sythetic 48.5\n"
          ]
        }
      ]
    },
    {
      "cell_type": "code",
      "source": [
        "print(classification_report(y_test, predict))\n",
        "print(\"balanced accuracy\",balanced_accuracy_score(y_test,predict))"
      ],
      "metadata": {
        "colab": {
          "base_uri": "https://localhost:8080/"
        },
        "id": "5IA3IExp1x_T",
        "outputId": "7a8e5242-0156-4fe9-c5e8-410767934e98"
      },
      "execution_count": null,
      "outputs": [
        {
          "output_type": "stream",
          "name": "stdout",
          "text": [
            "              precision    recall  f1-score   support\n",
            "\n",
            "           0       0.63      0.42      0.51       189\n",
            "           1       0.77      0.55      0.64       198\n",
            "           2       0.38      0.42      0.40       191\n",
            "           3       0.56      0.43      0.48       185\n",
            "           4       0.53      0.52      0.52       188\n",
            "           5       0.33      0.70      0.45       212\n",
            "           6       0.69      0.30      0.42       226\n",
            "           7       0.57      0.65      0.61       193\n",
            "           8       0.54      0.50      0.52       201\n",
            "           9       0.33      0.39      0.36       217\n",
            "\n",
            "    accuracy                           0.48      2000\n",
            "   macro avg       0.53      0.49      0.49      2000\n",
            "weighted avg       0.53      0.48      0.49      2000\n",
            "\n",
            "balanced accuracy 0.4866818503574142\n"
          ]
        }
      ]
    },
    {
      "cell_type": "code",
      "source": [
        "# Predicting mnist data using Synthetic Data trained model\n",
        "predict=model_synthetic.predict(testData)\n",
        "accuracy=round(sum(predict==test_y)/len(test_y),3)\n",
        "print(\"accuracy for trained on synthetic and tested on mnist\",accuracy*100)\n"
      ],
      "metadata": {
        "colab": {
          "base_uri": "https://localhost:8080/"
        },
        "id": "H9ecyZ-GvC0u",
        "outputId": "5a8de33e-3575-4268-a20c-5303496c5a8e"
      },
      "execution_count": null,
      "outputs": [
        {
          "output_type": "stream",
          "name": "stdout",
          "text": [
            "accuracy for trained on synthetic and tested on mnist 75.5\n"
          ]
        }
      ]
    },
    {
      "cell_type": "code",
      "source": [
        "print(classification_report(test_y, predict))\n",
        "print(\"balanced accuracy\",balanced_accuracy_score(test_y,predict))"
      ],
      "metadata": {
        "colab": {
          "base_uri": "https://localhost:8080/"
        },
        "id": "91-BFxza187H",
        "outputId": "18274f9c-cb8e-4394-916c-5da2f7d3789a"
      },
      "execution_count": null,
      "outputs": [
        {
          "output_type": "stream",
          "name": "stdout",
          "text": [
            "              precision    recall  f1-score   support\n",
            "\n",
            "           0       0.72      0.78      0.75       980\n",
            "           1       0.93      0.96      0.94      1135\n",
            "           2       0.75      0.54      0.63      1032\n",
            "           3       0.67      0.84      0.75      1010\n",
            "           4       0.78      0.89      0.83       982\n",
            "           5       0.78      0.84      0.81       892\n",
            "           6       0.81      0.81      0.81       958\n",
            "           7       0.97      0.72      0.83      1028\n",
            "           8       0.53      0.66      0.59       974\n",
            "           9       0.69      0.50      0.58      1009\n",
            "\n",
            "    accuracy                           0.75     10000\n",
            "   macro avg       0.76      0.75      0.75     10000\n",
            "weighted avg       0.77      0.75      0.75     10000\n",
            "\n",
            "balanced accuracy 0.7541877072523395\n"
          ]
        }
      ]
    },
    {
      "cell_type": "code",
      "source": [
        "# Importing libraries for Deep Learning\n",
        "import torch\n",
        "import torch.nn as nn\n",
        "import torch.nn.functional as F\n",
        "from torch.utils.data import DataLoader\n",
        "from torchvision import datasets, transforms\n",
        "from torchvision.utils import make_grid\n",
        "\n",
        "import numpy as np\n",
        "import pandas as pd\n",
        "from sklearn.metrics import confusion_matrix\n",
        "import matplotlib.pyplot as plt"
      ],
      "metadata": {
        "id": "4G_jmbVaRlig"
      },
      "execution_count": null,
      "outputs": []
    },
    {
      "cell_type": "code",
      "source": [
        "# CNN\n",
        "class ConvolutionalNetwork(nn.Module):\n",
        "    def __init__(self):\n",
        "        super().__init__()\n",
        "        self.conv1 = nn.Conv2d(1, 6, 3, 1)\n",
        "        self.conv2 = nn.Conv2d(6, 16, 3, 1)\n",
        "        self.fc1 = nn.Linear(5*5*16, 120)\n",
        "        self.fc2 = nn.Linear(120, 84)\n",
        "        self.fc3 = nn.Linear(84,10)\n",
        "\n",
        "    def forward(self, X):\n",
        "        X = F.relu(self.conv1(X))\n",
        "        X = F.max_pool2d(X, 2, 2)\n",
        "        X = F.relu(self.conv2(X))\n",
        "        X = F.max_pool2d(X, 2, 2)\n",
        "        X = X.view(-1, 5*5*16)\n",
        "        X = F.relu(self.fc1(X))\n",
        "        X = F.relu(self.fc2(X))\n",
        "        X = self.fc3(X)\n",
        "        return F.log_softmax(X, dim=1)"
      ],
      "metadata": {
        "id": "V-srO1RqWqPM"
      },
      "execution_count": null,
      "outputs": []
    },
    {
      "cell_type": "code",
      "source": [
        "# Data Normalization on Mnist and synthetic\n",
        "normalised_data_mnist=image_normalisation(train_X,test_X)\n",
        "train_x_mnist=normalised_data_mnist[0]\n",
        "test_x_mnist=normalised_data_mnist[1]\n",
        "normalised_data_synthetic=image_normalisation(np.array(x_train_cnn),np.array(x_test_cnn))\n",
        "#print(len(x_train_cnn))\n",
        "train_x_synthetic=normalised_data_synthetic[0]\n",
        "test_x_synthetic=normalised_data_synthetic[1]\n"
      ],
      "metadata": {
        "colab": {
          "base_uri": "https://localhost:8080/"
        },
        "id": "NB6qguw_o6x2",
        "outputId": "c58cabf0-f2ca-4f85-9f11-56cc8d84ad7a"
      },
      "execution_count": null,
      "outputs": [
        {
          "output_type": "stream",
          "name": "stdout",
          "text": [
            "<class 'numpy.ndarray'>\n",
            "<class 'numpy.ndarray'>\n"
          ]
        }
      ]
    },
    {
      "cell_type": "code",
      "source": [
        "# Training and testing methods of CNN\n",
        "\n",
        "epochs = 15\n",
        "train_losses = []\n",
        "test_losses = []\n",
        "train_correct = []\n",
        "test_correct_validation = []\n",
        "def cnn_training(train_loader,train_y_loader,test_loader1,test_y_loader1,model):\n",
        "  \n",
        "  for i in range(epochs):\n",
        "      trn_corr = 0\n",
        "      \n",
        "      b=0\n",
        "    # Run the training batches\n",
        "      for (X_train,y_train) in zip(train_loader,train_y_loader):\n",
        "        b+=1\n",
        "        \n",
        "        y_pred = model(X_train.view(10,1,28,28))  # we don't flatten X-train here\n",
        "        loss = criterion(y_pred,y_train.flatten())\n",
        " \n",
        "        \n",
        "        predicted = torch.max(y_pred.data, 1)[1]\n",
        "        batch_corr = (predicted == y_train).sum()\n",
        "        trn_corr += batch_corr\n",
        "        \n",
        "        \n",
        "        optimizer.zero_grad()\n",
        "        loss.backward()\n",
        "        optimizer.step()\n",
        "        \n",
        "        # Print interim results\n",
        "        if b%400 == 0:\n",
        "            print(\"value b\",b)\n",
        "            print(f'epoch: {i:2}  batch: {b:4} [{10*b:6}]  loss: {loss.item():10.8f}  \\\n",
        "accuracy: {trn_corr.item()*100/(10*b):7.3f}%')\n",
        "        \n",
        "      train_losses.append(loss.item())\n",
        "      train_correct.append(trn_corr.item())\n",
        "      with torch.no_grad():\n",
        "        tst_corr=0\n",
        "        for (X_test, y_test) in zip(test_loader1,test_y_loader1):\n",
        "\n",
        "            \n",
        "            y_val = model(X_test.view(10,1,28,28))\n",
        "\n",
        "            \n",
        "            predicted = torch.max(y_val.data, 1)[1] \n",
        "            tst_corr += (predicted == y_test).sum()\n",
        "            \n",
        "      loss = criterion(y_val, y_test.flatten())\n",
        "      test_losses.append(loss)\n",
        "      test_correct_validation.append(tst_corr.item())\n",
        "\n",
        "        \n",
        "def cnn_testing(test_loader1,test_y_loader1,model):\n",
        "  tst_corr = 0\n",
        "  for (X_test, y_test) in zip(test_loader1,test_y_loader1):\n",
        "     \n",
        "      y_val = model(X_test.view(10,1,28,28))\n",
        "      predicted = torch.max(y_val.data, 1)[1] \n",
        "      tst_corr += (predicted == y_test).sum()\n",
        "  loss = criterion(y_val, y_test.flatten())\n",
        "  #test_losses.append(loss.item())\n",
        "  #test_correct.append(tst_corr.item()*100/(100*b))\n",
        "  return tst_corr\n",
        "      "
      ],
      "metadata": {
        "id": "wnPsRy4JXq8A"
      },
      "execution_count": null,
      "outputs": []
    },
    {
      "cell_type": "code",
      "source": [
        "#MNIST DATA\n",
        "tensor_trainData=torch.tensor(train_x_mnist.astype(np.float32))\n",
        "tensor_testData=torch.tensor(test_x_mnist.astype(np.float32))\n",
        "tensor_train_y=torch.tensor(train_y)\n",
        "tensor_test_y=torch.tensor(test_y)\n",
        "train_loader = DataLoader(tensor_trainData, batch_size=10)\n",
        "test_loader = DataLoader(tensor_testData, batch_size=10)\n",
        "train_y_loader=DataLoader(tensor_train_y,batch_size=10)\n",
        "test_y_loader=DataLoader(tensor_test_y,batch_size=10)\n",
        "#SYNTHETIC DATA\n",
        "tensor_trainData_synthetic=torch.tensor(np.array(train_x_synthetic).astype(np.float32))\n",
        "\n",
        "tensor_testData_synthetic=torch.tensor(np.array(test_x_synthetic).astype(np.float32))\n",
        "tensor_train_y_synthetic=torch.tensor(y_train_cnn)\n",
        "tensor_test_y_synthetic=torch.tensor(y_test_cnn)\n",
        "train_loader_synthetic = DataLoader(tensor_trainData_synthetic, batch_size=10)\n",
        "\n",
        "test_loader_synthetic= DataLoader(tensor_testData_synthetic, batch_size=10)\n",
        "train_y_loader_synthetic=DataLoader(tensor_train_y_synthetic,batch_size=10)\n",
        "test_y_loader_synthetic=DataLoader(tensor_test_y_synthetic,batch_size=10)"
      ],
      "metadata": {
        "id": "3nJ7Wkq8u_gf"
      },
      "execution_count": null,
      "outputs": []
    },
    {
      "cell_type": "code",
      "source": [
        "# Training and testing CNN on mnist and testing on synthetic data \n",
        "cnn_model_mnist = ConvolutionalNetwork()\n",
        "criterion = nn.CrossEntropyLoss()\n",
        "optimizer = torch.optim.SGD(cnn_model_mnist.parameters(), lr = 0.001)\n",
        "cnn_training(train_loader,train_y_loader,test_loader,test_y_loader,cnn_model_mnist)\n",
        "#cnn_testing(test_loader,test_y_loader,cnn_model_mnist)\n",
        "print(\"synthetic_accuracy\",100*(cnn_testing(test_loader_synthetic,test_y_loader_synthetic,cnn_model_mnist)/2000))\n"
      ],
      "metadata": {
        "colab": {
          "base_uri": "https://localhost:8080/"
        },
        "id": "plo-6USvqy1g",
        "outputId": "ea09ed33-0605-4572-b72f-0139eb833c13"
      },
      "execution_count": null,
      "outputs": [
        {
          "output_type": "stream",
          "name": "stdout",
          "text": [
            "value b 400\n",
            "epoch:  0  batch:  400 [  4000]  loss: 2.24322057  accuracy:  10.125%\n",
            "value b 800\n",
            "epoch:  0  batch:  800 [  8000]  loss: 2.27392006  accuracy:   9.975%\n",
            "value b 1200\n",
            "epoch:  0  batch: 1200 [ 12000]  loss: 2.28430152  accuracy:  10.067%\n",
            "value b 1600\n",
            "epoch:  0  batch: 1600 [ 16000]  loss: 2.30317879  accuracy:   9.938%\n",
            "value b 2000\n",
            "epoch:  0  batch: 2000 [ 20000]  loss: 2.30116129  accuracy:  10.265%\n",
            "value b 2400\n",
            "epoch:  0  batch: 2400 [ 24000]  loss: 2.30807233  accuracy:  11.979%\n",
            "value b 2800\n",
            "epoch:  0  batch: 2800 [ 28000]  loss: 2.31506228  accuracy:  13.171%\n",
            "value b 3200\n",
            "epoch:  0  batch: 3200 [ 32000]  loss: 2.28809762  accuracy:  13.400%\n",
            "value b 3600\n",
            "epoch:  0  batch: 3600 [ 36000]  loss: 2.29206562  accuracy:  13.208%\n",
            "value b 4000\n",
            "epoch:  0  batch: 4000 [ 40000]  loss: 2.31539750  accuracy:  13.037%\n",
            "value b 4400\n",
            "epoch:  0  batch: 4400 [ 44000]  loss: 2.28923607  accuracy:  12.898%\n",
            "value b 4800\n",
            "epoch:  0  batch: 4800 [ 48000]  loss: 2.28501344  accuracy:  12.754%\n",
            "value b 5200\n",
            "epoch:  0  batch: 5200 [ 52000]  loss: 2.30530524  accuracy:  12.567%\n",
            "value b 5600\n",
            "epoch:  0  batch: 5600 [ 56000]  loss: 2.29061699  accuracy:  12.429%\n",
            "value b 6000\n",
            "epoch:  0  batch: 6000 [ 60000]  loss: 2.30212831  accuracy:  12.323%\n",
            "value b 400\n",
            "epoch:  1  batch:  400 [  4000]  loss: 2.26198053  accuracy:  11.100%\n",
            "value b 800\n",
            "epoch:  1  batch:  800 [  8000]  loss: 2.27171588  accuracy:  11.338%\n",
            "value b 1200\n",
            "epoch:  1  batch: 1200 [ 12000]  loss: 2.27844596  accuracy:  11.275%\n",
            "value b 1600\n",
            "epoch:  1  batch: 1600 [ 16000]  loss: 2.28162217  accuracy:  11.350%\n",
            "value b 2000\n",
            "epoch:  1  batch: 2000 [ 20000]  loss: 2.29517674  accuracy:  11.510%\n",
            "value b 2400\n",
            "epoch:  1  batch: 2400 [ 24000]  loss: 2.28591251  accuracy:  11.571%\n",
            "value b 2800\n",
            "epoch:  1  batch: 2800 [ 28000]  loss: 2.31151152  accuracy:  11.796%\n",
            "value b 3200\n",
            "epoch:  1  batch: 3200 [ 32000]  loss: 2.25651550  accuracy:  12.344%\n",
            "value b 3600\n",
            "epoch:  1  batch: 3600 [ 36000]  loss: 2.26051259  accuracy:  13.272%\n",
            "value b 4000\n",
            "epoch:  1  batch: 4000 [ 40000]  loss: 2.30748320  accuracy:  15.182%\n",
            "value b 4400\n",
            "epoch:  1  batch: 4400 [ 44000]  loss: 2.26212740  accuracy:  17.330%\n",
            "value b 4800\n",
            "epoch:  1  batch: 4800 [ 48000]  loss: 2.20608878  accuracy:  19.863%\n",
            "value b 5200\n",
            "epoch:  1  batch: 5200 [ 52000]  loss: 2.23166776  accuracy:  22.208%\n",
            "value b 5600\n",
            "epoch:  1  batch: 5600 [ 56000]  loss: 2.15455651  accuracy:  24.354%\n",
            "value b 6000\n",
            "epoch:  1  batch: 6000 [ 60000]  loss: 2.26026106  accuracy:  26.157%\n",
            "value b 400\n",
            "epoch:  2  batch:  400 [  4000]  loss: 2.14122701  accuracy:  48.800%\n",
            "value b 800\n",
            "epoch:  2  batch:  800 [  8000]  loss: 2.00567746  accuracy:  48.112%\n",
            "value b 1200\n",
            "epoch:  2  batch: 1200 [ 12000]  loss: 1.90726984  accuracy:  48.592%\n",
            "value b 1600\n",
            "epoch:  2  batch: 1600 [ 16000]  loss: 1.50810909  accuracy:  49.406%\n",
            "value b 2000\n",
            "epoch:  2  batch: 2000 [ 20000]  loss: 1.34929752  accuracy:  51.585%\n",
            "value b 2400\n",
            "epoch:  2  batch: 2400 [ 24000]  loss: 1.00693011  accuracy:  54.333%\n",
            "value b 2800\n",
            "epoch:  2  batch: 2800 [ 28000]  loss: 0.75120962  accuracy:  56.811%\n",
            "value b 3200\n",
            "epoch:  2  batch: 3200 [ 32000]  loss: 0.79009521  accuracy:  59.031%\n",
            "value b 3600\n",
            "epoch:  2  batch: 3600 [ 36000]  loss: 0.80667078  accuracy:  61.150%\n",
            "value b 4000\n",
            "epoch:  2  batch: 4000 [ 40000]  loss: 0.91368961  accuracy:  62.888%\n",
            "value b 4400\n",
            "epoch:  2  batch: 4400 [ 44000]  loss: 0.52796966  accuracy:  64.464%\n",
            "value b 4800\n",
            "epoch:  2  batch: 4800 [ 48000]  loss: 0.29824373  accuracy:  65.910%\n",
            "value b 5200\n",
            "epoch:  2  batch: 5200 [ 52000]  loss: 0.79409778  accuracy:  67.204%\n",
            "value b 5600\n",
            "epoch:  2  batch: 5600 [ 56000]  loss: 0.21120653  accuracy:  68.409%\n",
            "value b 6000\n",
            "epoch:  2  batch: 6000 [ 60000]  loss: 0.33082619  accuracy:  69.757%\n",
            "value b 400\n",
            "epoch:  3  batch:  400 [  4000]  loss: 0.25828242  accuracy:  85.675%\n",
            "value b 800\n",
            "epoch:  3  batch:  800 [  8000]  loss: 0.45785218  accuracy:  86.175%\n",
            "value b 1200\n",
            "epoch:  3  batch: 1200 [ 12000]  loss: 0.63030148  accuracy:  86.483%\n",
            "value b 1600\n",
            "epoch:  3  batch: 1600 [ 16000]  loss: 0.38366830  accuracy:  86.181%\n",
            "value b 2000\n",
            "epoch:  3  batch: 2000 [ 20000]  loss: 0.15559508  accuracy:  86.460%\n",
            "value b 2400\n",
            "epoch:  3  batch: 2400 [ 24000]  loss: 0.27477279  accuracy:  86.737%\n",
            "value b 2800\n",
            "epoch:  3  batch: 2800 [ 28000]  loss: 0.08587779  accuracy:  86.789%\n",
            "value b 3200\n",
            "epoch:  3  batch: 3200 [ 32000]  loss: 0.22666219  accuracy:  86.903%\n",
            "value b 3600\n",
            "epoch:  3  batch: 3600 [ 36000]  loss: 0.40066808  accuracy:  87.056%\n",
            "value b 4000\n",
            "epoch:  3  batch: 4000 [ 40000]  loss: 0.53513759  accuracy:  87.190%\n",
            "value b 4400\n",
            "epoch:  3  batch: 4400 [ 44000]  loss: 0.38742083  accuracy:  87.305%\n",
            "value b 4800\n",
            "epoch:  3  batch: 4800 [ 48000]  loss: 0.12576614  accuracy:  87.375%\n",
            "value b 5200\n",
            "epoch:  3  batch: 5200 [ 52000]  loss: 0.58969533  accuracy:  87.510%\n",
            "value b 5600\n",
            "epoch:  3  batch: 5600 [ 56000]  loss: 0.20918223  accuracy:  87.662%\n",
            "value b 6000\n",
            "epoch:  3  batch: 6000 [ 60000]  loss: 0.12941930  accuracy:  88.038%\n",
            "value b 400\n",
            "epoch:  4  batch:  400 [  4000]  loss: 0.08076295  accuracy:  90.350%\n",
            "value b 800\n",
            "epoch:  4  batch:  800 [  8000]  loss: 0.28098410  accuracy:  90.638%\n",
            "value b 1200\n",
            "epoch:  4  batch: 1200 [ 12000]  loss: 0.45607772  accuracy:  90.392%\n",
            "value b 1600\n",
            "epoch:  4  batch: 1600 [ 16000]  loss: 0.28981534  accuracy:  90.050%\n",
            "value b 2000\n",
            "epoch:  4  batch: 2000 [ 20000]  loss: 0.08238627  accuracy:  90.300%\n",
            "value b 2400\n",
            "epoch:  4  batch: 2400 [ 24000]  loss: 0.13959995  accuracy:  90.371%\n",
            "value b 2800\n",
            "epoch:  4  batch: 2800 [ 28000]  loss: 0.05826796  accuracy:  90.375%\n",
            "value b 3200\n",
            "epoch:  4  batch: 3200 [ 32000]  loss: 0.14360124  accuracy:  90.312%\n",
            "value b 3600\n",
            "epoch:  4  batch: 3600 [ 36000]  loss: 0.39627355  accuracy:  90.433%\n",
            "value b 4000\n",
            "epoch:  4  batch: 4000 [ 40000]  loss: 0.46637082  accuracy:  90.490%\n",
            "value b 4400\n",
            "epoch:  4  batch: 4400 [ 44000]  loss: 0.26046836  accuracy:  90.552%\n",
            "value b 4800\n",
            "epoch:  4  batch: 4800 [ 48000]  loss: 0.08413920  accuracy:  90.596%\n",
            "value b 5200\n",
            "epoch:  4  batch: 5200 [ 52000]  loss: 0.43223119  accuracy:  90.683%\n",
            "value b 5600\n",
            "epoch:  4  batch: 5600 [ 56000]  loss: 0.09236150  accuracy:  90.784%\n",
            "value b 6000\n",
            "epoch:  4  batch: 6000 [ 60000]  loss: 0.07290284  accuracy:  91.058%\n",
            "value b 400\n",
            "epoch:  5  batch:  400 [  4000]  loss: 0.04389637  accuracy:  92.750%\n",
            "value b 800\n",
            "epoch:  5  batch:  800 [  8000]  loss: 0.20305589  accuracy:  92.713%\n",
            "value b 1200\n",
            "epoch:  5  batch: 1200 [ 12000]  loss: 0.35211477  accuracy:  92.567%\n",
            "value b 1600\n",
            "epoch:  5  batch: 1600 [ 16000]  loss: 0.21268520  accuracy:  92.375%\n",
            "value b 2000\n",
            "epoch:  5  batch: 2000 [ 20000]  loss: 0.06921349  accuracy:  92.560%\n",
            "value b 2400\n",
            "epoch:  5  batch: 2400 [ 24000]  loss: 0.07900386  accuracy:  92.562%\n",
            "value b 2800\n",
            "epoch:  5  batch: 2800 [ 28000]  loss: 0.04344796  accuracy:  92.525%\n",
            "value b 3200\n",
            "epoch:  5  batch: 3200 [ 32000]  loss: 0.11516060  accuracy:  92.478%\n",
            "value b 3600\n",
            "epoch:  5  batch: 3600 [ 36000]  loss: 0.37218478  accuracy:  92.608%\n",
            "value b 4000\n",
            "epoch:  5  batch: 4000 [ 40000]  loss: 0.38970643  accuracy:  92.645%\n",
            "value b 4400\n",
            "epoch:  5  batch: 4400 [ 44000]  loss: 0.16175875  accuracy:  92.716%\n",
            "value b 4800\n",
            "epoch:  5  batch: 4800 [ 48000]  loss: 0.05362392  accuracy:  92.708%\n",
            "value b 5200\n",
            "epoch:  5  batch: 5200 [ 52000]  loss: 0.36736137  accuracy:  92.767%\n",
            "value b 5600\n",
            "epoch:  5  batch: 5600 [ 56000]  loss: 0.03787970  accuracy:  92.839%\n",
            "value b 6000\n",
            "epoch:  5  batch: 6000 [ 60000]  loss: 0.04252268  accuracy:  93.058%\n",
            "value b 400\n",
            "epoch:  6  batch:  400 [  4000]  loss: 0.03109776  accuracy:  94.175%\n",
            "value b 800\n",
            "epoch:  6  batch:  800 [  8000]  loss: 0.14513257  accuracy:  94.362%\n",
            "value b 1200\n",
            "epoch:  6  batch: 1200 [ 12000]  loss: 0.27594385  accuracy:  94.250%\n",
            "value b 1600\n",
            "epoch:  6  batch: 1600 [ 16000]  loss: 0.13555464  accuracy:  93.994%\n",
            "value b 2000\n",
            "epoch:  6  batch: 2000 [ 20000]  loss: 0.06801901  accuracy:  94.105%\n",
            "value b 2400\n",
            "epoch:  6  batch: 2400 [ 24000]  loss: 0.04602941  accuracy:  94.108%\n",
            "value b 2800\n",
            "epoch:  6  batch: 2800 [ 28000]  loss: 0.03257161  accuracy:  94.082%\n",
            "value b 3200\n",
            "epoch:  6  batch: 3200 [ 32000]  loss: 0.12840919  accuracy:  94.056%\n",
            "value b 3600\n",
            "epoch:  6  batch: 3600 [ 36000]  loss: 0.31357026  accuracy:  94.150%\n",
            "value b 4000\n",
            "epoch:  6  batch: 4000 [ 40000]  loss: 0.33281603  accuracy:  94.183%\n",
            "value b 4400\n",
            "epoch:  6  batch: 4400 [ 44000]  loss: 0.07798462  accuracy:  94.236%\n",
            "value b 4800\n",
            "epoch:  6  batch: 4800 [ 48000]  loss: 0.03979310  accuracy:  94.213%\n",
            "value b 5200\n",
            "epoch:  6  batch: 5200 [ 52000]  loss: 0.31671274  accuracy:  94.252%\n",
            "value b 5600\n",
            "epoch:  6  batch: 5600 [ 56000]  loss: 0.01624737  accuracy:  94.309%\n",
            "value b 6000\n",
            "epoch:  6  batch: 6000 [ 60000]  loss: 0.02865818  accuracy:  94.482%\n",
            "value b 400\n",
            "epoch:  7  batch:  400 [  4000]  loss: 0.02118263  accuracy:  95.200%\n",
            "value b 800\n",
            "epoch:  7  batch:  800 [  8000]  loss: 0.11081012  accuracy:  95.400%\n",
            "value b 1200\n",
            "epoch:  7  batch: 1200 [ 12000]  loss: 0.21432896  accuracy:  95.333%\n",
            "value b 1600\n",
            "epoch:  7  batch: 1600 [ 16000]  loss: 0.07972579  accuracy:  95.181%\n",
            "value b 2000\n",
            "epoch:  7  batch: 2000 [ 20000]  loss: 0.05952059  accuracy:  95.220%\n",
            "value b 2400\n",
            "epoch:  7  batch: 2400 [ 24000]  loss: 0.02866794  accuracy:  95.183%\n",
            "value b 2800\n",
            "epoch:  7  batch: 2800 [ 28000]  loss: 0.02835591  accuracy:  95.229%\n",
            "value b 3200\n",
            "epoch:  7  batch: 3200 [ 32000]  loss: 0.14190331  accuracy:  95.175%\n",
            "value b 3600\n",
            "epoch:  7  batch: 3600 [ 36000]  loss: 0.27358255  accuracy:  95.242%\n",
            "value b 4000\n",
            "epoch:  7  batch: 4000 [ 40000]  loss: 0.28649235  accuracy:  95.250%\n",
            "value b 4400\n",
            "epoch:  7  batch: 4400 [ 44000]  loss: 0.04045873  accuracy:  95.275%\n",
            "value b 4800\n",
            "epoch:  7  batch: 4800 [ 48000]  loss: 0.03284355  accuracy:  95.235%\n",
            "value b 5200\n",
            "epoch:  7  batch: 5200 [ 52000]  loss: 0.27607310  accuracy:  95.260%\n",
            "value b 5600\n",
            "epoch:  7  batch: 5600 [ 56000]  loss: 0.00927335  accuracy:  95.318%\n",
            "value b 6000\n",
            "epoch:  7  batch: 6000 [ 60000]  loss: 0.01897587  accuracy:  95.457%\n",
            "value b 400\n",
            "epoch:  8  batch:  400 [  4000]  loss: 0.01638924  accuracy:  95.975%\n",
            "value b 800\n",
            "epoch:  8  batch:  800 [  8000]  loss: 0.09962596  accuracy:  96.100%\n",
            "value b 1200\n",
            "epoch:  8  batch: 1200 [ 12000]  loss: 0.18373802  accuracy:  96.025%\n",
            "value b 1600\n",
            "epoch:  8  batch: 1600 [ 16000]  loss: 0.05048516  accuracy:  95.963%\n",
            "value b 2000\n",
            "epoch:  8  batch: 2000 [ 20000]  loss: 0.04487120  accuracy:  96.025%\n",
            "value b 2400\n",
            "epoch:  8  batch: 2400 [ 24000]  loss: 0.01981956  accuracy:  95.992%\n",
            "value b 2800\n",
            "epoch:  8  batch: 2800 [ 28000]  loss: 0.02322515  accuracy:  96.021%\n",
            "value b 3200\n",
            "epoch:  8  batch: 3200 [ 32000]  loss: 0.15708260  accuracy:  95.972%\n",
            "value b 3600\n",
            "epoch:  8  batch: 3600 [ 36000]  loss: 0.25121710  accuracy:  96.008%\n",
            "value b 4000\n",
            "epoch:  8  batch: 4000 [ 40000]  loss: 0.27286965  accuracy:  96.007%\n",
            "value b 4400\n",
            "epoch:  8  batch: 4400 [ 44000]  loss: 0.02878887  accuracy:  96.025%\n",
            "value b 4800\n",
            "epoch:  8  batch: 4800 [ 48000]  loss: 0.02501250  accuracy:  95.973%\n",
            "value b 5200\n",
            "epoch:  8  batch: 5200 [ 52000]  loss: 0.22897437  accuracy:  95.977%\n",
            "value b 5600\n",
            "epoch:  8  batch: 5600 [ 56000]  loss: 0.00696148  accuracy:  96.016%\n",
            "value b 6000\n",
            "epoch:  8  batch: 6000 [ 60000]  loss: 0.01339651  accuracy:  96.120%\n",
            "value b 400\n",
            "epoch:  9  batch:  400 [  4000]  loss: 0.01443945  accuracy:  96.700%\n",
            "value b 800\n",
            "epoch:  9  batch:  800 [  8000]  loss: 0.07974766  accuracy:  96.713%\n",
            "value b 1200\n",
            "epoch:  9  batch: 1200 [ 12000]  loss: 0.16895360  accuracy:  96.550%\n",
            "value b 1600\n",
            "epoch:  9  batch: 1600 [ 16000]  loss: 0.03525928  accuracy:  96.531%\n",
            "value b 2000\n",
            "epoch:  9  batch: 2000 [ 20000]  loss: 0.03463330  accuracy:  96.525%\n",
            "value b 2400\n",
            "epoch:  9  batch: 2400 [ 24000]  loss: 0.01703957  accuracy:  96.483%\n",
            "value b 2800\n",
            "epoch:  9  batch: 2800 [ 28000]  loss: 0.01791116  accuracy:  96.486%\n",
            "value b 3200\n",
            "epoch:  9  batch: 3200 [ 32000]  loss: 0.14479658  accuracy:  96.441%\n",
            "value b 3600\n",
            "epoch:  9  batch: 3600 [ 36000]  loss: 0.23823753  accuracy:  96.467%\n",
            "value b 4000\n",
            "epoch:  9  batch: 4000 [ 40000]  loss: 0.22619364  accuracy:  96.460%\n",
            "value b 4400\n",
            "epoch:  9  batch: 4400 [ 44000]  loss: 0.02399166  accuracy:  96.493%\n",
            "value b 4800\n",
            "epoch:  9  batch: 4800 [ 48000]  loss: 0.01995867  accuracy:  96.446%\n",
            "value b 5200\n",
            "epoch:  9  batch: 5200 [ 52000]  loss: 0.18190150  accuracy:  96.454%\n",
            "value b 5600\n",
            "epoch:  9  batch: 5600 [ 56000]  loss: 0.00530097  accuracy:  96.479%\n",
            "value b 6000\n",
            "epoch:  9  batch: 6000 [ 60000]  loss: 0.00990365  accuracy:  96.560%\n",
            "value b 400\n",
            "epoch: 10  batch:  400 [  4000]  loss: 0.01504257  accuracy:  96.925%\n",
            "value b 800\n",
            "epoch: 10  batch:  800 [  8000]  loss: 0.07684368  accuracy:  96.950%\n",
            "value b 1200\n",
            "epoch: 10  batch: 1200 [ 12000]  loss: 0.13332088  accuracy:  96.808%\n",
            "value b 1600\n",
            "epoch: 10  batch: 1600 [ 16000]  loss: 0.02497761  accuracy:  96.850%\n",
            "value b 2000\n",
            "epoch: 10  batch: 2000 [ 20000]  loss: 0.02635260  accuracy:  96.835%\n",
            "value b 2400\n",
            "epoch: 10  batch: 2400 [ 24000]  loss: 0.01547272  accuracy:  96.821%\n",
            "value b 2800\n",
            "epoch: 10  batch: 2800 [ 28000]  loss: 0.01476028  accuracy:  96.804%\n",
            "value b 3200\n",
            "epoch: 10  batch: 3200 [ 32000]  loss: 0.13061577  accuracy:  96.797%\n",
            "value b 3600\n",
            "epoch: 10  batch: 3600 [ 36000]  loss: 0.22668281  accuracy:  96.822%\n",
            "value b 4000\n",
            "epoch: 10  batch: 4000 [ 40000]  loss: 0.19287951  accuracy:  96.812%\n",
            "value b 4400\n",
            "epoch: 10  batch: 4400 [ 44000]  loss: 0.02173134  accuracy:  96.823%\n",
            "value b 4800\n",
            "epoch: 10  batch: 4800 [ 48000]  loss: 0.01563918  accuracy:  96.775%\n",
            "value b 5200\n",
            "epoch: 10  batch: 5200 [ 52000]  loss: 0.14178590  accuracy:  96.787%\n",
            "value b 5600\n",
            "epoch: 10  batch: 5600 [ 56000]  loss: 0.00415748  accuracy:  96.805%\n",
            "value b 6000\n",
            "epoch: 10  batch: 6000 [ 60000]  loss: 0.00763833  accuracy:  96.873%\n",
            "value b 400\n",
            "epoch: 11  batch:  400 [  4000]  loss: 0.01614469  accuracy:  97.125%\n",
            "value b 800\n",
            "epoch: 11  batch:  800 [  8000]  loss: 0.08194234  accuracy:  97.138%\n",
            "value b 1200\n",
            "epoch: 11  batch: 1200 [ 12000]  loss: 0.10302889  accuracy:  97.008%\n",
            "value b 1600\n",
            "epoch: 11  batch: 1600 [ 16000]  loss: 0.01910761  accuracy:  97.075%\n",
            "value b 2000\n",
            "epoch: 11  batch: 2000 [ 20000]  loss: 0.02216754  accuracy:  97.100%\n",
            "value b 2400\n",
            "epoch: 11  batch: 2400 [ 24000]  loss: 0.01407971  accuracy:  97.075%\n",
            "value b 2800\n",
            "epoch: 11  batch: 2800 [ 28000]  loss: 0.00964407  accuracy:  97.057%\n",
            "value b 3200\n",
            "epoch: 11  batch: 3200 [ 32000]  loss: 0.10937230  accuracy:  97.075%\n",
            "value b 3600\n",
            "epoch: 11  batch: 3600 [ 36000]  loss: 0.22018354  accuracy:  97.100%\n",
            "value b 4000\n",
            "epoch: 11  batch: 4000 [ 40000]  loss: 0.15805511  accuracy:  97.090%\n",
            "value b 4400\n",
            "epoch: 11  batch: 4400 [ 44000]  loss: 0.02145464  accuracy:  97.093%\n",
            "value b 4800\n",
            "epoch: 11  batch: 4800 [ 48000]  loss: 0.01133492  accuracy:  97.054%\n",
            "value b 5200\n",
            "epoch: 11  batch: 5200 [ 52000]  loss: 0.11681230  accuracy:  97.063%\n",
            "value b 5600\n",
            "epoch: 11  batch: 5600 [ 56000]  loss: 0.00327934  accuracy:  97.077%\n",
            "value b 6000\n",
            "epoch: 11  batch: 6000 [ 60000]  loss: 0.00643743  accuracy:  97.138%\n",
            "value b 400\n",
            "epoch: 12  batch:  400 [  4000]  loss: 0.01685364  accuracy:  97.325%\n",
            "value b 800\n",
            "epoch: 12  batch:  800 [  8000]  loss: 0.08571886  accuracy:  97.338%\n",
            "value b 1200\n",
            "epoch: 12  batch: 1200 [ 12000]  loss: 0.08341800  accuracy:  97.258%\n",
            "value b 1600\n",
            "epoch: 12  batch: 1600 [ 16000]  loss: 0.01666944  accuracy:  97.269%\n",
            "value b 2000\n",
            "epoch: 12  batch: 2000 [ 20000]  loss: 0.01843065  accuracy:  97.315%\n",
            "value b 2400\n",
            "epoch: 12  batch: 2400 [ 24000]  loss: 0.01243369  accuracy:  97.292%\n",
            "value b 2800\n",
            "epoch: 12  batch: 2800 [ 28000]  loss: 0.00696473  accuracy:  97.286%\n",
            "value b 3200\n",
            "epoch: 12  batch: 3200 [ 32000]  loss: 0.09750102  accuracy:  97.297%\n",
            "value b 3600\n",
            "epoch: 12  batch: 3600 [ 36000]  loss: 0.20391758  accuracy:  97.322%\n",
            "value b 4000\n",
            "epoch: 12  batch: 4000 [ 40000]  loss: 0.13994360  accuracy:  97.302%\n",
            "value b 4400\n",
            "epoch: 12  batch: 4400 [ 44000]  loss: 0.02025140  accuracy:  97.302%\n",
            "value b 4800\n",
            "epoch: 12  batch: 4800 [ 48000]  loss: 0.01059301  accuracy:  97.263%\n",
            "value b 5200\n",
            "epoch: 12  batch: 5200 [ 52000]  loss: 0.10302063  accuracy:  97.267%\n",
            "value b 5600\n",
            "epoch: 12  batch: 5600 [ 56000]  loss: 0.00282019  accuracy:  97.277%\n",
            "value b 6000\n",
            "epoch: 12  batch: 6000 [ 60000]  loss: 0.00545477  accuracy:  97.328%\n",
            "value b 400\n",
            "epoch: 13  batch:  400 [  4000]  loss: 0.01923707  accuracy:  97.650%\n",
            "value b 800\n",
            "epoch: 13  batch:  800 [  8000]  loss: 0.09059993  accuracy:  97.625%\n",
            "value b 1200\n",
            "epoch: 13  batch: 1200 [ 12000]  loss: 0.06924165  accuracy:  97.508%\n",
            "value b 1600\n",
            "epoch: 13  batch: 1600 [ 16000]  loss: 0.01300273  accuracy:  97.494%\n",
            "value b 2000\n",
            "epoch: 13  batch: 2000 [ 20000]  loss: 0.01594636  accuracy:  97.530%\n",
            "value b 2400\n",
            "epoch: 13  batch: 2400 [ 24000]  loss: 0.01106181  accuracy:  97.508%\n",
            "value b 2800\n",
            "epoch: 13  batch: 2800 [ 28000]  loss: 0.00586052  accuracy:  97.496%\n",
            "value b 3200\n",
            "epoch: 13  batch: 3200 [ 32000]  loss: 0.08154915  accuracy:  97.506%\n",
            "value b 3600\n",
            "epoch: 13  batch: 3600 [ 36000]  loss: 0.20165518  accuracy:  97.536%\n",
            "value b 4000\n",
            "epoch: 13  batch: 4000 [ 40000]  loss: 0.11255471  accuracy:  97.515%\n",
            "value b 4400\n",
            "epoch: 13  batch: 4400 [ 44000]  loss: 0.02048045  accuracy:  97.514%\n",
            "value b 4800\n",
            "epoch: 13  batch: 4800 [ 48000]  loss: 0.00839525  accuracy:  97.465%\n",
            "value b 5200\n",
            "epoch: 13  batch: 5200 [ 52000]  loss: 0.08687272  accuracy:  97.460%\n",
            "value b 5600\n",
            "epoch: 13  batch: 5600 [ 56000]  loss: 0.00258768  accuracy:  97.463%\n",
            "value b 6000\n",
            "epoch: 13  batch: 6000 [ 60000]  loss: 0.00487019  accuracy:  97.508%\n",
            "value b 400\n",
            "epoch: 14  batch:  400 [  4000]  loss: 0.02257696  accuracy:  97.825%\n",
            "value b 800\n",
            "epoch: 14  batch:  800 [  8000]  loss: 0.09196730  accuracy:  97.737%\n",
            "value b 1200\n",
            "epoch: 14  batch: 1200 [ 12000]  loss: 0.05829331  accuracy:  97.658%\n",
            "value b 1600\n",
            "epoch: 14  batch: 1600 [ 16000]  loss: 0.01148188  accuracy:  97.650%\n",
            "value b 2000\n",
            "epoch: 14  batch: 2000 [ 20000]  loss: 0.01519917  accuracy:  97.685%\n",
            "value b 2400\n",
            "epoch: 14  batch: 2400 [ 24000]  loss: 0.01118418  accuracy:  97.642%\n",
            "value b 2800\n",
            "epoch: 14  batch: 2800 [ 28000]  loss: 0.00460445  accuracy:  97.625%\n",
            "value b 3200\n",
            "epoch: 14  batch: 3200 [ 32000]  loss: 0.06770758  accuracy:  97.644%\n",
            "value b 3600\n",
            "epoch: 14  batch: 3600 [ 36000]  loss: 0.19460036  accuracy:  97.681%\n",
            "value b 4000\n",
            "epoch: 14  batch: 4000 [ 40000]  loss: 0.09127452  accuracy:  97.660%\n",
            "value b 4400\n",
            "epoch: 14  batch: 4400 [ 44000]  loss: 0.01986456  accuracy:  97.648%\n",
            "value b 4800\n",
            "epoch: 14  batch: 4800 [ 48000]  loss: 0.00733329  accuracy:  97.604%\n",
            "value b 5200\n",
            "epoch: 14  batch: 5200 [ 52000]  loss: 0.07224872  accuracy:  97.587%\n",
            "value b 5600\n",
            "epoch: 14  batch: 5600 [ 56000]  loss: 0.00239118  accuracy:  97.586%\n",
            "value b 6000\n",
            "epoch: 14  batch: 6000 [ 60000]  loss: 0.00435070  accuracy:  97.628%\n",
            "synthetic_accuracy tensor(50.3500)\n"
          ]
        }
      ]
    },
    {
      "cell_type": "code",
      "source": [
        "# Training loss for mnist trained CNN\n",
        "plt.plot(train_losses, label='training loss')\n",
        "plt.title('Loss at the end of each epoch')\n",
        "plt.legend()\n",
        "train_losses.clear()# clearing memory for using another cnn object\n"
      ],
      "metadata": {
        "colab": {
          "base_uri": "https://localhost:8080/",
          "height": 281
        },
        "id": "oyxe15uCMIjA",
        "outputId": "f3663f50-6949-4d2d-e307-b58570be5031"
      },
      "execution_count": null,
      "outputs": [
        {
          "output_type": "display_data",
          "data": {
            "text/plain": [
              "<Figure size 432x288 with 1 Axes>"
            ],
            "image/png": "[encoded data removed]"
          },
          "metadata": {
            "needs_background": "light"
          }
        }
      ]
    },
    {
      "cell_type": "code",
      "source": [
        "# Accuracy and validation accuracy for mnist trained cnn model\n",
        "plt.plot([t/600 for t in train_correct], label='training accuracy')\n",
        "plt.plot([t/100 for t in test_correct_validation], label='validation accuracy')\n",
        "plt.title('Accuracy at the end of each epoch')\n",
        "plt.legend();"
      ],
      "metadata": {
        "id": "pl2baJQw_Rov",
        "colab": {
          "base_uri": "https://localhost:8080/",
          "height": 281
        },
        "outputId": "9e3be696-76e0-4b80-c2c1-0282d24244e8"
      },
      "execution_count": null,
      "outputs": [
        {
          "output_type": "display_data",
          "data": {
            "text/plain": [
              "<Figure size 432x288 with 1 Axes>"
            ],
            "image/png": "[encoded data removed]"
          },
          "metadata": {
            "needs_background": "light"
          }
        }
      ]
    },
    {
      "cell_type": "code",
      "source": [
        "print(test_correct_validation[9])"
      ],
      "metadata": {
        "id": "8DZ6lQ_5-76M",
        "colab": {
          "base_uri": "https://localhost:8080/"
        },
        "outputId": "ce867a96-cf88-43eb-b565-016f3463b364"
      },
      "execution_count": null,
      "outputs": [
        {
          "output_type": "stream",
          "name": "stdout",
          "text": [
            "9656\n"
          ]
        }
      ]
    },
    {
      "cell_type": "code",
      "source": [
        "# Training and testing CNN on synthetic and testing on mnist data \n",
        "cnn_model_synthetic = ConvolutionalNetwork()\n",
        "criterion = nn.CrossEntropyLoss()\n",
        "optimizer = torch.optim.SGD(cnn_model_synthetic.parameters(), lr = 0.01)\n",
        "cnn_training(train_loader_synthetic,train_y_loader_synthetic,test_loader_synthetic,test_y_loader_synthetic,cnn_model_synthetic)\n",
        "#print(\"synthetic_dataset_accuracy\",cnn_testing(test_loader_synthetic,test_y_loader_synthetic,cnn_model_synthetic))\n",
        "print(\"mnist_dataset_accuracy\",100*(cnn_testing(test_loader,test_y_loader,cnn_model_synthetic)/10000))\n",
        "\n"
      ],
      "metadata": {
        "colab": {
          "base_uri": "https://localhost:8080/"
        },
        "id": "vpLWdCkRcjD5",
        "outputId": "897917f1-cead-40e9-88a5-27fc719d229c"
      },
      "execution_count": null,
      "outputs": [
        {
          "output_type": "stream",
          "name": "stdout",
          "text": [
            "value b 400\n",
            "epoch:  0  batch:  400 [  4000]  loss: 2.31107116  accuracy:   9.775%\n",
            "value b 800\n",
            "epoch:  0  batch:  800 [  8000]  loss: 2.29853845  accuracy:  11.725%\n",
            "value b 400\n",
            "epoch:  1  batch:  400 [  4000]  loss: 2.29958916  accuracy:  19.900%\n",
            "value b 800\n",
            "epoch:  1  batch:  800 [  8000]  loss: 2.02325344  accuracy:  24.900%\n",
            "value b 400\n",
            "epoch:  2  batch:  400 [  4000]  loss: 1.99535143  accuracy:  39.150%\n",
            "value b 800\n",
            "epoch:  2  batch:  800 [  8000]  loss: 1.35073900  accuracy:  45.250%\n",
            "value b 400\n",
            "epoch:  3  batch:  400 [  4000]  loss: 1.28193319  accuracy:  59.700%\n",
            "value b 800\n",
            "epoch:  3  batch:  800 [  8000]  loss: 0.92883170  accuracy:  63.925%\n",
            "value b 400\n",
            "epoch:  4  batch:  400 [  4000]  loss: 0.81981885  accuracy:  75.275%\n",
            "value b 800\n",
            "epoch:  4  batch:  800 [  8000]  loss: 0.49483734  accuracy:  78.588%\n",
            "value b 400\n",
            "epoch:  5  batch:  400 [  4000]  loss: 0.47600609  accuracy:  87.000%\n",
            "value b 800\n",
            "epoch:  5  batch:  800 [  8000]  loss: 0.24253687  accuracy:  88.787%\n",
            "value b 400\n",
            "epoch:  6  batch:  400 [  4000]  loss: 0.40808463  accuracy:  93.050%\n",
            "value b 800\n",
            "epoch:  6  batch:  800 [  8000]  loss: 0.09813577  accuracy:  94.075%\n",
            "value b 400\n",
            "epoch:  7  batch:  400 [  4000]  loss: 0.21249096  accuracy:  96.550%\n",
            "value b 800\n",
            "epoch:  7  batch:  800 [  8000]  loss: 0.05367325  accuracy:  96.950%\n",
            "value b 400\n",
            "epoch:  8  batch:  400 [  4000]  loss: 0.15862115  accuracy:  98.400%\n",
            "value b 800\n",
            "epoch:  8  batch:  800 [  8000]  loss: 0.02634830  accuracy:  98.525%\n",
            "value b 400\n",
            "epoch:  9  batch:  400 [  4000]  loss: 0.10990689  accuracy:  97.625%\n",
            "value b 800\n",
            "epoch:  9  batch:  800 [  8000]  loss: 0.01589204  accuracy:  98.475%\n",
            "value b 400\n",
            "epoch: 10  batch:  400 [  4000]  loss: 0.05025844  accuracy:  99.650%\n",
            "value b 800\n",
            "epoch: 10  batch:  800 [  8000]  loss: 0.00670528  accuracy:  99.713%\n",
            "value b 400\n",
            "epoch: 11  batch:  400 [  4000]  loss: 0.01766412  accuracy:  99.925%\n",
            "value b 800\n",
            "epoch: 11  batch:  800 [  8000]  loss: 0.00523764  accuracy:  99.912%\n",
            "value b 400\n",
            "epoch: 12  batch:  400 [  4000]  loss: 0.01671894  accuracy: 100.000%\n",
            "value b 800\n",
            "epoch: 12  batch:  800 [  8000]  loss: 0.00343122  accuracy: 100.000%\n",
            "value b 400\n",
            "epoch: 13  batch:  400 [  4000]  loss: 0.00812997  accuracy: 100.000%\n",
            "value b 800\n",
            "epoch: 13  batch:  800 [  8000]  loss: 0.00244257  accuracy: 100.000%\n",
            "value b 400\n",
            "epoch: 14  batch:  400 [  4000]  loss: 0.00550785  accuracy: 100.000%\n",
            "value b 800\n",
            "epoch: 14  batch:  800 [  8000]  loss: 0.00186864  accuracy: 100.000%\n",
            "mnist_dataset_accuracy tensor(79.0100)\n"
          ]
        }
      ]
    },
    {
      "cell_type": "code",
      "source": [
        "# Training loss for Sythetic Trained CNN model\n",
        "plt.plot(train_losses, label='training loss')\n",
        "plt.title('Loss at the end of each epoch')\n",
        "plt.legend()\n"
      ],
      "metadata": {
        "colab": {
          "base_uri": "https://localhost:8080/",
          "height": 298
        },
        "id": "3V9-lG953LB9",
        "outputId": "27c5f738-d53d-455c-fe99-57c9145d5cdf"
      },
      "execution_count": null,
      "outputs": [
        {
          "output_type": "execute_result",
          "data": {
            "text/plain": [
              "<matplotlib.legend.Legend at 0x7f730dd6e310>"
            ]
          },
          "metadata": {},
          "execution_count": 33
        },
        {
          "output_type": "display_data",
          "data": {
            "text/plain": [
              "<Figure size 432x288 with 1 Axes>"
            ],
            "image/png": "[encoded data removed]"
          },
          "metadata": {
            "needs_background": "light"
          }
        }
      ]
    },
    {
      "cell_type": "code",
      "source": [
        "len(train_losses)"
      ],
      "metadata": {
        "colab": {
          "base_uri": "https://localhost:8080/"
        },
        "id": "G8OKrvAb9YIh",
        "outputId": "12016bd2-77a5-45f6-c0ed-5e797ff49abd"
      },
      "execution_count": null,
      "outputs": [
        {
          "output_type": "execute_result",
          "data": {
            "text/plain": [
              "45"
            ]
          },
          "metadata": {},
          "execution_count": 22
        }
      ]
    },
    {
      "cell_type": "code",
      "source": [
        "# Accuracy and validation accuracy for Synthetic trained CNN\n",
        "plt.plot([t/80 for t in train_correct], label='training accuracy')\n",
        "plt.plot([t/20 for t in test_correct_validation], label='validation accuracy')\n",
        "plt.title('Accuracy at the end of each epoch')\n",
        "plt.legend();"
      ],
      "metadata": {
        "colab": {
          "base_uri": "https://localhost:8080/",
          "height": 281
        },
        "id": "O6YjGCZkxCCu",
        "outputId": "7c9b2698-e40e-4550-8271-28ba3a95e6f0"
      },
      "execution_count": null,
      "outputs": [
        {
          "output_type": "display_data",
          "data": {
            "text/plain": [
              "<Figure size 432x288 with 1 Axes>"
            ],
            "image/png": "[encoded data removed]"
          },
          "metadata": {
            "needs_background": "light"
          }
        }
      ]
    },
    {
      "cell_type": "code",
      "source": [],
      "metadata": {
        "colab": {
          "base_uri": "https://localhost:8080/"
        },
        "id": "M3mBqvF3Yyf3",
        "outputId": "04b2dac4-732d-4619-d0f1-5267dd0f819a"
      },
      "execution_count": null,
      "outputs": [
        {
          "output_type": "stream",
          "name": "stdout",
          "text": [
            "tensor(9790)\n"
          ]
        }
      ]
    }
  ]
}